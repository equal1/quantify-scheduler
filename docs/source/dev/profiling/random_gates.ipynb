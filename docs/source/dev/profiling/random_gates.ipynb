{
 "cells": [
  {
   "cell_type": "markdown",
   "id": "042fff0c",
   "metadata": {},
   "source": [
    "# Random gates"
   ]
  },
  {
   "cell_type": "markdown",
   "id": "3c9d3eeb",
   "metadata": {},
   "source": [
    "## Setup configurations"
   ]
  },
  {
   "cell_type": "code",
   "execution_count": null,
   "id": "3361b76b",
   "metadata": {},
   "outputs": [],
   "source": [
    "import numpy as np\n",
    "from quantify_core.measurement import MeasurementControl\n",
    "from quantify_scheduler import Schedule\n",
    "from quantify_scheduler.device_under_test.transmon_element import BasicTransmonElement\n",
    "from quantify_scheduler.gettables import ScheduleGettable\n",
    "from quantify_scheduler.device_under_test.quantum_device import QuantumDevice\n",
    "from quantify_scheduler.instrument_coordinator import InstrumentCoordinator\n",
    "from quantify_scheduler.instrument_coordinator.components.qblox import ClusterComponent, PulsarQRMComponent\n",
    "from quantify_scheduler.operations.gate_library import Measure, X, X90, Y, Reset\n",
    "from quantify_scheduler.resources import ClockResource\n",
    "from quantify_scheduler.operations.pulse_library import IdlePulse, SquarePulse\n",
    "from quantify_scheduler.operations.acquisition_library import SSBIntegrationComplex, Trace\n",
    "from quantify_scheduler.enums import BinMode\n",
    "from qcodes.instrument.parameter import ManualParameter\n",
    "from qblox_instruments import Cluster, ClusterType, Pulsar\n",
    "from quantify_core.data import handling as dh\n",
    "from quantify_scheduler import compilation\n",
    "from quantify_scheduler.backends import SerialCompiler\n",
    "import math\n",
    "import random"
   ]
  },
  {
   "cell_type": "code",
   "execution_count": null,
   "id": "2c456282",
   "metadata": {
    "scrolled": true
   },
   "outputs": [],
   "source": [
    "dh.set_datadir(dh.default_datadir(verbose=False));"
   ]
  },
  {
   "cell_type": "markdown",
   "id": "5e534641",
   "metadata": {},
   "source": [
    "## Setup cluster"
   ]
  },
  {
   "cell_type": "code",
   "execution_count": null,
   "id": "4afcddc0",
   "metadata": {},
   "outputs": [],
   "source": [
    "cluster = Cluster(\"cluster0\",\n",
    "                  \"<ip>\",\n",
    "                  debug=1,\n",
    "                  dummy_cfg={15: ClusterType.CLUSTER_QRM},\n",
    "          )\n",
    "\n",
    "ic_cluster0 = ClusterComponent(cluster)\n",
    "my_instr_coord = InstrumentCoordinator(\"my_instr_coord\")\n",
    "my_instr_coord.add_component(ic_cluster0)"
   ]
  },
  {
   "cell_type": "code",
   "execution_count": null,
   "id": "c26df6a7",
   "metadata": {},
   "outputs": [],
   "source": [
    "ic_cluster0.name"
   ]
  },
  {
   "cell_type": "code",
   "execution_count": null,
   "id": "d0b7f78d",
   "metadata": {},
   "outputs": [],
   "source": [
    "my_device = QuantumDevice(\"my_device\")"
   ]
  },
  {
   "cell_type": "code",
   "execution_count": null,
   "id": "fbb46f17",
   "metadata": {},
   "outputs": [],
   "source": [
    "transmon0 = BasicTransmonElement(f\"q0\")\n",
    "transmon0.clock_freqs.readout(10e9)\n",
    "transmon0.clock_freqs.f01(10e9)\n",
    "transmon0.clock_freqs.f12(10e9)\n",
    "transmon0.rxy.amp180(0.1)\n",
    "transmon0.rxy.motzoi(0.1)\n",
    "#transmon0.measure.acq_duration(2e-08)\n",
    "transmon0.measure.pulse_duration(1e-07)\n",
    "transmon0.measure.acq_delay(1.2e-07)\n",
    "transmon0.measure.integration_time(2e-08)\n",
    "\n",
    "my_device.add_element(transmon0)\n",
    "transmon1 = BasicTransmonElement(f\"q1\")\n",
    "transmon1.clock_freqs.readout(10e9)\n",
    "my_device.add_element(transmon1)"
   ]
  },
  {
   "cell_type": "code",
   "execution_count": null,
   "id": "20c75658",
   "metadata": {},
   "outputs": [],
   "source": [
    "my_device.instr_instrument_coordinator(\"my_instr_coord\")"
   ]
  },
  {
   "cell_type": "code",
   "execution_count": null,
   "id": "16fb59d0",
   "metadata": {},
   "outputs": [],
   "source": [
    "hw_config = {\n",
    "        \"backend\": \"quantify_scheduler.backends.qblox_backend.hardware_compile\",\n",
    "        \"cluster0\": {\n",
    "                \"ref\": \"internal\",\n",
    "                \"instrument_type\": \"Cluster\",\n",
    "                \"cluster0_module15\": {\n",
    "                        \"instrument_type\": \"QRM\",\n",
    "                        \"complex_output_0\": {\n",
    "                                \"portclock_configs\": [\n",
    "                                        {\"port\": \"q0:res\", \"clock\": \"q0.ro\", \"interm_freq\": 0},\n",
    "                                        {\"port\": \"q1:res\", \"clock\": \"q1.ro\", \"interm_freq\": 0},\n",
    "                                        {\"port\": \"q0:mw\", \"clock\": \"q0.01\", \"interm_freq\": 0},\n",
    "                                        {\"port\": \"q1:mw\", \"clock\": \"q1.01\", \"interm_freq\": 0},\n",
    "                                    ]\n",
    "                            }\n",
    "                    }\n",
    "            },\n",
    "    }"
   ]
  },
  {
   "cell_type": "code",
   "execution_count": null,
   "id": "2fcda1c3",
   "metadata": {},
   "outputs": [],
   "source": [
    "my_device.hardware_config(hw_config)\n",
    "my_device.cfg_sched_repetitions(1)"
   ]
  },
  {
   "cell_type": "markdown",
   "id": "dbe2c90e",
   "metadata": {},
   "source": [
    "## Setup schedule, dummy data"
   ]
  },
  {
   "cell_type": "code",
   "execution_count": null,
   "id": "cd055c49",
   "metadata": {},
   "outputs": [],
   "source": [
    "signal_delay = 148e-9\n",
    "num_acquisitions=1000"
   ]
  },
  {
   "cell_type": "code",
   "execution_count": null,
   "id": "5e4ec5f9",
   "metadata": {},
   "outputs": [],
   "source": [
    "from qblox_instruments import DummyBinnedAcquisitionData, DummyScopeAcquisitionData"
   ]
  },
  {
   "cell_type": "code",
   "execution_count": null,
   "id": "484d5236",
   "metadata": {},
   "outputs": [],
   "source": [
    "def set_dummy_data(repetitions=1):\n",
    "    dummy_slot_idx = 15\n",
    "    cluster.delete_dummy_binned_acquisition_data(slot_idx=dummy_slot_idx)\n",
    "    dummy_data_0 = [\n",
    "            DummyBinnedAcquisitionData(data=(4 * i, 0), thres=0, avg_cnt=0) for i in range(num_acquisitions)\n",
    "    ] * repetitions\n",
    "    cluster.set_dummy_binned_acquisition_data(slot_idx=dummy_slot_idx, sequencer=0, acq_index_name=\"0\", data=dummy_data_0)\n",
    "    dummy_data_1 = [\n",
    "            DummyBinnedAcquisitionData(data=(0, 8 * i), thres=0, avg_cnt=0) for i in range(num_acquisitions)\n",
    "    ] * repetitions\n",
    "    cluster.set_dummy_binned_acquisition_data(slot_idx=dummy_slot_idx, sequencer=1, acq_index_name=\"1\", data=dummy_data_1)"
   ]
  },
  {
   "cell_type": "code",
   "execution_count": null,
   "id": "2bfdf412",
   "metadata": {},
   "outputs": [],
   "source": [
    "def create_schedule(\n",
    "    repetitions: int,\n",
    ") -> Schedule:\n",
    "    OPERATIONS = (X, X90, Y)\n",
    "    \n",
    "    sched = Schedule('Complex Sequencing')\n",
    "    sched.add(Reset('q0'))\n",
    "    for idx in range(5000):\n",
    "        gate = random.choice(OPERATIONS)\n",
    "        operation = sched.add(gate('q0'))\n",
    "    \n",
    "    sched.add(Measure('q0'))\n",
    "    sched.repetitions = 1\n",
    "    \n",
    "    return sched"
   ]
  },
  {
   "cell_type": "code",
   "execution_count": null,
   "id": "368f1115",
   "metadata": {},
   "outputs": [],
   "source": [
    "simple_binned_acquisition_kwargs = {\n",
    "}"
   ]
  },
  {
   "cell_type": "markdown",
   "id": "990d90ea",
   "metadata": {},
   "source": [
    "## Run schedule and profiling"
   ]
  },
  {
   "cell_type": "code",
   "execution_count": null,
   "id": "cef8d15b",
   "metadata": {},
   "outputs": [],
   "source": [
    "def run_experiment():\n",
    "    my_gettable = ScheduleGettable(\n",
    "        my_device,\n",
    "        create_schedule,\n",
    "        simple_binned_acquisition_kwargs,\n",
    "        batched=True,\n",
    "        real_imag=False,\n",
    "        data_labels=[f\"q0 abs\", f\"q0 phase\", f\"q1 abs\", f\"q1 phase\"],\n",
    "        num_channels=2,\n",
    "    )\n",
    "    acq = my_gettable.get()\n",
    "    return acq"
   ]
  }
 ],
 "metadata": {
  "kernelspec": {
   "display_name": "Python 3 (ipykernel)",
   "language": "python",
   "name": "python3"
  },
  "language_info": {
   "codemirror_mode": {
    "name": "ipython",
    "version": 3
   },
   "file_extension": ".py",
   "mimetype": "text/x-python",
   "name": "python",
   "nbconvert_exporter": "python",
   "pygments_lexer": "ipython3",
   "version": "3.9.17"
  }
 },
 "nbformat": 4,
 "nbformat_minor": 5
}
